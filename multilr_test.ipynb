{
 "cells": [
  {
   "metadata": {
    "collapsed": true,
    "ExecuteTime": {
     "end_time": "2025-03-11T06:56:17.944680Z",
     "start_time": "2025-03-11T06:56:17.760147Z"
    }
   },
   "cell_type": "code",
   "outputs": [],
   "execution_count": 1,
   "source": "import numpy as np",
   "id": "initial_id"
  },
  {
   "metadata": {},
   "cell_type": "markdown",
   "source": "input is like x=[[1,2],[2,3],[3,4]] and y = [1,2,3]",
   "id": "fbca5d73fc88bd51"
  },
  {
   "metadata": {
    "ExecuteTime": {
     "end_time": "2025-03-11T08:26:25.184580Z",
     "start_time": "2025-03-11T08:26:25.178826Z"
    }
   },
   "cell_type": "code",
   "source": [
    "def fit(x:[[]],y:[]):\n",
    "\n",
    "    x = np.array(x)\n",
    "    y = np.array(y)\n",
    "    # print(x.shape)\n",
    "\n",
    "\n",
    "    X_matrix = np.column_stack((np.ones((x.shape[0])), x))\n",
    "    X_trans_matrix = X_matrix.transpose()\n",
    "\n",
    "    cov_matrix = np.dot(X_trans_matrix, X_matrix)\n",
    "    try:\n",
    "        cov_matrix_inv = np.linalg.inv(cov_matrix)\n",
    "    except np.linalg.LinAlgError:\n",
    "        cov_matrix_inv = np.linalg.pinv(cov_matrix)\n",
    "    cov_bw_dep_indep_matrix = np.dot(X_trans_matrix, y)\n",
    "\n",
    "    beta = np.dot(cov_matrix_inv, cov_bw_dep_indep_matrix)\n",
    "    # print(beta)\n",
    "    return beta\n",
    "    # features = {f\"x{i}\": x[:, i] for i in range(x.shape[1])}\n",
    "\n"
   ],
   "id": "91ad3f60e8d0d6a5",
   "outputs": [],
   "execution_count": 109
  },
  {
   "metadata": {
    "ExecuteTime": {
     "end_time": "2025-03-11T08:26:25.821038Z",
     "start_time": "2025-03-11T08:26:25.817782Z"
    }
   },
   "cell_type": "code",
   "source": "def predict(X, beta):\n",
   "id": "72380b249d79c5e4",
   "outputs": [],
   "execution_count": null
  },
  {
   "metadata": {
    "ExecuteTime": {
     "end_time": "2025-03-11T08:27:00.477109Z",
     "start_time": "2025-03-11T08:27:00.471511Z"
    }
   },
   "cell_type": "code",
   "source": [
    "x = [[1, 2], [2, 3], [3, 4]]\n",
    "y = [1, 2, 3]\n",
    "beta = fit(x, y)\n",
    "print(beta)"
   ],
   "id": "426494d567808e5e",
   "outputs": [
    {
     "name": "stdout",
     "output_type": "stream",
     "text": [
      "[-0.33333333  0.66666667  0.33333333]\n"
     ]
    }
   ],
   "execution_count": 110
  },
  {
   "metadata": {},
   "cell_type": "code",
   "outputs": [],
   "execution_count": null,
   "source": "",
   "id": "ea2ffe170c9e2083"
  }
 ],
 "metadata": {
  "kernelspec": {
   "display_name": "Python 3",
   "language": "python",
   "name": "python3"
  },
  "language_info": {
   "codemirror_mode": {
    "name": "ipython",
    "version": 2
   },
   "file_extension": ".py",
   "mimetype": "text/x-python",
   "name": "python",
   "nbconvert_exporter": "python",
   "pygments_lexer": "ipython2",
   "version": "2.7.6"
  }
 },
 "nbformat": 4,
 "nbformat_minor": 5
}
