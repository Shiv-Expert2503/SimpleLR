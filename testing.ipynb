{
 "cells": [
  {
   "cell_type": "code",
   "id": "initial_id",
   "metadata": {
    "collapsed": true,
    "ExecuteTime": {
     "end_time": "2025-03-10T13:13:31.953512Z",
     "start_time": "2025-03-10T13:13:31.157342Z"
    }
   },
   "source": [
    "import numpy as np\n",
    "import pandas as pd"
   ],
   "outputs": [],
   "execution_count": 3
  },
  {
   "metadata": {
    "ExecuteTime": {
     "end_time": "2025-03-10T13:45:31.557788Z",
     "start_time": "2025-03-10T13:45:31.553109Z"
    }
   },
   "cell_type": "code",
   "source": [
    "def fit(X,y):\n",
    "    X, y = np.array(X), np.array(y)\n",
    "    n = len(X)\n",
    "    m = (n * np.sum(X*y) - np.sum(X) * np.sum(y)) / (n * np.sum(X**2) - (np.sum(X))**2)\n",
    "    c = (np.sum(y) - m*np.sum(X))/ n\n",
    "    return m, c"
   ],
   "id": "79c27e02e2c67390",
   "outputs": [],
   "execution_count": 5
  },
  {
   "metadata": {
    "ExecuteTime": {
     "end_time": "2025-03-10T13:46:35.187897Z",
     "start_time": "2025-03-10T13:46:35.184458Z"
    }
   },
   "cell_type": "code",
   "source": [
    "def predict (X, m, c):\n",
    "    X = np.array(X)\n",
    "    return m * X + c"
   ],
   "id": "50c63c5028d64a69",
   "outputs": [],
   "execution_count": 6
  },
  {
   "metadata": {
    "ExecuteTime": {
     "end_time": "2025-03-10T13:51:59.077520Z",
     "start_time": "2025-03-10T13:51:59.074951Z"
    }
   },
   "cell_type": "code",
   "source": [
    "def score(y, y_pred):\n",
    "    u = np.sum((y - y_pred)**2)\n",
    "    v = np.sum((y - np.mean(y))**2)\n",
    "    return 1 - (u/v)"
   ],
   "id": "5812ac0c585c016e",
   "outputs": [],
   "execution_count": 7
  },
  {
   "metadata": {
    "ExecuteTime": {
     "end_time": "2025-03-10T13:54:54.879051Z",
     "start_time": "2025-03-10T13:54:54.874827Z"
    }
   },
   "cell_type": "code",
   "source": [
    "def cost(y, y_pred):\n",
    "    n = len(y)\n",
    "    return np.sum((y - y_pred)**2) / n"
   ],
   "id": "dbb5e9f35d5248e0",
   "outputs": [],
   "execution_count": 9
  },
  {
   "metadata": {
    "ExecuteTime": {
     "end_time": "2025-03-10T13:58:32.635603Z",
     "start_time": "2025-03-10T13:58:32.631615Z"
    }
   },
   "cell_type": "code",
   "source": [
    "X = [1, 2, 3, 4, 5]\n",
    "y = [30, 35, 40, 45, 50]"
   ],
   "id": "ca571aa8175d2453",
   "outputs": [],
   "execution_count": 10
  },
  {
   "metadata": {
    "ExecuteTime": {
     "end_time": "2025-03-10T13:58:43.454619Z",
     "start_time": "2025-03-10T13:58:43.450147Z"
    }
   },
   "cell_type": "code",
   "source": "m, c = fit(X,y)",
   "id": "250d5ad2fdbec4e8",
   "outputs": [],
   "execution_count": 11
  },
  {
   "metadata": {
    "ExecuteTime": {
     "end_time": "2025-03-10T13:59:25.902192Z",
     "start_time": "2025-03-10T13:59:25.897542Z"
    }
   },
   "cell_type": "code",
   "source": [
    "print(f\"Slope m : {m}\")\n",
    "print(f\"Intercept c : {c}\")\n"
   ],
   "id": "e21fccb8ea9d80f7",
   "outputs": [
    {
     "name": "stdout",
     "output_type": "stream",
     "text": [
      "Slope m : 5.0\n",
      "Intercept c : 25.0\n"
     ]
    }
   ],
   "execution_count": 12
  },
  {
   "metadata": {
    "ExecuteTime": {
     "end_time": "2025-03-10T13:59:52.959031Z",
     "start_time": "2025-03-10T13:59:52.954667Z"
    }
   },
   "cell_type": "code",
   "source": "y_pred = predict(X,m,c)",
   "id": "b65584753cbc20b5",
   "outputs": [],
   "execution_count": 14
  },
  {
   "metadata": {
    "ExecuteTime": {
     "end_time": "2025-03-10T14:00:00.164993Z",
     "start_time": "2025-03-10T14:00:00.159782Z"
    }
   },
   "cell_type": "code",
   "source": "print(f\"Prediction y : {y_pred}\")",
   "id": "f1beb0f7a9485d97",
   "outputs": [
    {
     "name": "stdout",
     "output_type": "stream",
     "text": [
      "Prediction y : [30. 35. 40. 45. 50.]\n"
     ]
    }
   ],
   "execution_count": 15
  },
  {
   "metadata": {
    "ExecuteTime": {
     "end_time": "2025-03-10T14:00:51.924043Z",
     "start_time": "2025-03-10T14:00:51.919973Z"
    }
   },
   "cell_type": "code",
   "source": "score = score(y,y_pred)",
   "id": "996fa7845e146669",
   "outputs": [],
   "execution_count": 16
  },
  {
   "metadata": {
    "ExecuteTime": {
     "end_time": "2025-03-10T14:00:55.139078Z",
     "start_time": "2025-03-10T14:00:55.134385Z"
    }
   },
   "cell_type": "code",
   "source": "print(f\"Score : {score}\")",
   "id": "51852eb819bb7b37",
   "outputs": [
    {
     "name": "stdout",
     "output_type": "stream",
     "text": [
      "Score : 1.0\n"
     ]
    }
   ],
   "execution_count": 17
  },
  {
   "metadata": {
    "ExecuteTime": {
     "end_time": "2025-03-10T14:01:06.647098Z",
     "start_time": "2025-03-10T14:01:06.643712Z"
    }
   },
   "cell_type": "code",
   "source": "mse = cost(y,y_pred)",
   "id": "6b585781a9b58cf5",
   "outputs": [],
   "execution_count": 18
  },
  {
   "metadata": {
    "ExecuteTime": {
     "end_time": "2025-03-10T14:01:09.397113Z",
     "start_time": "2025-03-10T14:01:09.392651Z"
    }
   },
   "cell_type": "code",
   "source": "print(f\"MSE : {mse}\")",
   "id": "ed3424424473ee9f",
   "outputs": [
    {
     "name": "stdout",
     "output_type": "stream",
     "text": [
      "MSE : 0.0\n"
     ]
    }
   ],
   "execution_count": 19
  },
  {
   "metadata": {
    "ExecuteTime": {
     "end_time": "2025-03-10T14:33:52.147506Z",
     "start_time": "2025-03-10T14:33:52.141040Z"
    }
   },
   "cell_type": "code",
   "source": [
    "# Enhanced SLR\n",
    "def fit(X,y):\n",
    "    X, y = np.array(X), np.array(y)\n",
    "\n",
    "    #Len of x and y should not be 0\n",
    "    if len(X) == 0 or len(y) == 0:\n",
    "        raise ValueError(\"X and y cannot be empty\")\n",
    "\n",
    "    #Len of x and y should be equal\n",
    "    if len(X) != len(y):\n",
    "        raise ValueError(\"X and y must have same length\")\n",
    "\n",
    "    # X must have more than 1 unique value as it will create a 0 division error while calculating value of m\n",
    "    if len(set(X)) == 1:\n",
    "        raise ValueError(\"X must contain more than 1 unique value\")\n",
    "\n",
    "    n = len(X)\n",
    "\n",
    "    m = (n * np.sum(X*y) - np.sum(X) * np.sum(y)) / (n * np.sum(X**2) - (np.sum(X))**2)\n",
    "    c = (np.sum(y) - m*np.sum(X))/ n\n",
    "\n",
    "    return m, c"
   ],
   "id": "2e8cfebe8e620953",
   "outputs": [],
   "execution_count": 20
  },
  {
   "metadata": {},
   "cell_type": "code",
   "outputs": [],
   "execution_count": null,
   "source": "",
   "id": "c0a79c9d33784482"
  }
 ],
 "metadata": {
  "kernelspec": {
   "display_name": "Python 3",
   "language": "python",
   "name": "python3"
  },
  "language_info": {
   "codemirror_mode": {
    "name": "ipython",
    "version": 2
   },
   "file_extension": ".py",
   "mimetype": "text/x-python",
   "name": "python",
   "nbconvert_exporter": "python",
   "pygments_lexer": "ipython2",
   "version": "2.7.6"
  }
 },
 "nbformat": 4,
 "nbformat_minor": 5
}
